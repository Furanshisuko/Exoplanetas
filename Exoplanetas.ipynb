{
  "nbformat": 4,
  "nbformat_minor": 0,
  "metadata": {
    "colab": {
      "provenance": [],
      "authorship_tag": "ABX9TyPv9lHogGGTcwXl2vJtG2lq",
      "include_colab_link": true
    },
    "kernelspec": {
      "name": "python3",
      "display_name": "Python 3"
    },
    "language_info": {
      "name": "python"
    }
  },
  "cells": [
    {
      "cell_type": "markdown",
      "metadata": {
        "id": "view-in-github",
        "colab_type": "text"
      },
      "source": [
        "<a href=\"https://colab.research.google.com/github/Furanshisuko/Exoplanetas/blob/main/Exoplanetas.ipynb\" target=\"_parent\"><img src=\"https://colab.research.google.com/assets/colab-badge.svg\" alt=\"Open In Colab\"/></a>"
      ]
    },
    {
      "cell_type": "code",
      "execution_count": 12,
      "metadata": {
        "id": "ioWXB5QL6QyP"
      },
      "outputs": [],
      "source": [
        "!pip install -q -U google-generativeai"
      ]
    },
    {
      "cell_type": "code",
      "source": [
        "import google.generativeai as genai\n",
        "\n",
        "from google.colab import userdata\n",
        "api_key = userdata.get('SECRET_KEY')\n",
        "genai.configure(api_key=api_key)"
      ],
      "metadata": {
        "id": "XBGf9bRC_lrp"
      },
      "execution_count": 27,
      "outputs": []
    },
    {
      "cell_type": "markdown",
      "source": [
        "Listando os modelos disponíveis"
      ],
      "metadata": {
        "id": "N5SmMWM-AiWS"
      }
    },
    {
      "cell_type": "code",
      "source": [
        "for m in genai.list_models():\n",
        "  if 'generateContent' in m.supported_generation_methods:\n",
        "    print(m.name)"
      ],
      "metadata": {
        "colab": {
          "base_uri": "https://localhost:8080/",
          "height": 138
        },
        "id": "K6_mea0JAhj5",
        "outputId": "a801bd80-dbfb-4f05-f20b-485402a60019"
      },
      "execution_count": 3,
      "outputs": [
        {
          "output_type": "stream",
          "name": "stdout",
          "text": [
            "models/gemini-1.0-pro\n",
            "models/gemini-1.0-pro-001\n",
            "models/gemini-1.0-pro-latest\n",
            "models/gemini-1.0-pro-vision-latest\n",
            "models/gemini-1.5-pro-latest\n",
            "models/gemini-pro\n",
            "models/gemini-pro-vision\n"
          ]
        }
      ]
    },
    {
      "cell_type": "code",
      "source": [
        "generation_config = {\n",
        "    \"candidate_count\": 1,\n",
        "    \"temperature\": 0.5,\n",
        "}"
      ],
      "metadata": {
        "id": "SseZtTMzDFIy"
      },
      "execution_count": 4,
      "outputs": []
    },
    {
      "cell_type": "code",
      "source": [
        "safety_settings = {\n",
        "    'HATE': 'BLOCK_NONE',\n",
        "    'HARASSMENT': 'BLOCK_NONE',\n",
        "    'SEXUAL' : 'BLOCK_NONE',\n",
        "    'DANGEROUS' : 'BLOCK_NONE'\n",
        "}"
      ],
      "metadata": {
        "id": "StFy1UKKDj2j"
      },
      "execution_count": 16,
      "outputs": []
    },
    {
      "cell_type": "markdown",
      "source": [
        "Inicializando o modelo"
      ],
      "metadata": {
        "id": "5aOolUCeNY4-"
      }
    },
    {
      "cell_type": "code",
      "source": [
        "model = genai.GenerativeModel(model_name=\"gemini-1.0-pro\",\n",
        "                              generation_config=generation_config,\n",
        "                              safety_settings=safety_settings)"
      ],
      "metadata": {
        "id": "hFtfLNyMQeyT"
      },
      "execution_count": 17,
      "outputs": []
    },
    {
      "cell_type": "code",
      "execution_count": 22,
      "metadata": {
        "colab": {
          "base_uri": "https://localhost:8080/",
          "height": 486
        },
        "id": "vrRjhT2rlrU_",
        "outputId": "1415915c-e452-4a0a-d3ae-b0748563b0a1"
      },
      "outputs": [
        {
          "output_type": "stream",
          "name": "stdout",
          "text": [
            "**Exoplanetas** são planetas que orbitam estrelas fora do nosso sistema solar. Eles são também conhecidos como planetas extrassolares.\n",
            "\n",
            "**Características dos Exoplanetas:**\n",
            "\n",
            "* **Variedade:** Os exoplanetas variam em tamanho, desde super-Terras até gigantes gasosos.\n",
            "* **Órbitas:** Eles podem orbitar suas estrelas em uma ampla gama de distâncias e períodos.\n",
            "* **Composição:** Os exoplanetas podem ser rochosos, gasosos ou uma combinação de ambos.\n",
            "* **Atmosferas:** Alguns exoplanetas têm atmosferas, enquanto outros não.\n",
            "* **Habitabilidade:** Alguns exoplanetas estão localizados em zonas habitáveis, onde as condições podem ser adequadas para a vida.\n",
            "\n",
            "**Métodos de Detecção:**\n",
            "\n",
            "Os exoplanetas são detectados usando vários métodos, incluindo:\n",
            "\n",
            "* **Método de Trânsito:** O exoplaneta passa na frente de sua estrela, causando um ligeiro escurecimento da luz da estrela.\n",
            "* **Método de Velocidade Radial:** A gravidade do exoplaneta puxa sua estrela, causando uma pequena oscilação em sua velocidade.\n",
            "* **Microlente Gravitacional:** A gravidade do exoplaneta distorce a luz de uma estrela distante, criando um brilho amplificado.\n",
            "* **Imagem Direta:** O exoplaneta é diretamente observado usando telescópios especializados.\n",
            "\n",
            "**Importância dos Exoplanetas:**\n",
            "\n",
            "O estudo de exoplanetas é importante por várias razões:\n",
            "\n",
            "* **Compreensão da formação planetária:** Os exoplanetas fornecem pistas sobre como os planetas se formam e evoluem.\n",
            "* **Busca por vida:** Alguns exoplanetas podem ter condições adequadas para a vida, tornando-os alvos para pesquisas astrobiológicas.\n",
            "* **Exploração espacial:** O estudo de exoplanetas pode ajudar a identificar destinos potenciais para futuras missões espaciais.\n",
            "* **Perspectiva cósmica:** Os exoplanetas nos dão uma compreensão mais ampla do nosso lugar no universo e da diversidade de mundos que existem.\n"
          ]
        }
      ],
      "source": [
        "response = model.generate_content(\"O que são exoplanetas\")\n",
        "print(response.text)"
      ]
    },
    {
      "cell_type": "code",
      "source": [
        "chat = model.start_chat(history=[])\n",
        "\n",
        "prompt = input('Esperando prompt: ')\n",
        "\n",
        "while prompt != \"fim\":\n",
        "  response = chat.send_message(prompt)\n",
        "  print(\"Resposta:\", response.text, '\\n\\n')\n",
        "  prompt = input('Esperando prompt: ')"
      ],
      "metadata": {
        "colab": {
          "base_uri": "https://localhost:8080/",
          "height": 833
        },
        "id": "g2ZrM9Eia9FE",
        "outputId": "97adfb1c-cba2-45e9-c82e-17528974f17d"
      },
      "execution_count": 24,
      "outputs": [
        {
          "name": "stdout",
          "output_type": "stream",
          "text": [
            "Esperando prompt: Quais são os métodos de detectar os exoplanetas?\n",
            "Resposta: **Métodos de Detecção de Exoplanetas**\n",
            "\n",
            "**1. Método de Trânsito**\n",
            "\n",
            "* O exoplaneta passa na frente da estrela hospedeira, bloqueando uma pequena quantidade de luz.\n",
            "* A diminuição no brilho da estrela é detectada por telescópios.\n",
            "* Fornece informações sobre o tamanho, órbita e atmosfera do exoplaneta.\n",
            "\n",
            "**2. Método da Velocidade Radial**\n",
            "\n",
            "* A gravidade do exoplaneta puxa a estrela hospedeira, fazendo com que ela oscile.\n",
            "* A oscilação é detectada medindo pequenas variações na velocidade radial da estrela.\n",
            "* Fornece informações sobre a massa do exoplaneta e sua distância da estrela.\n",
            "\n",
            "**3. Método de Microlente Gravitacional**\n",
            "\n",
            "* A luz de uma estrela distante é amplificada quando passa por um exoplaneta.\n",
            "* O aumento no brilho da estrela é detectado por telescópios.\n",
            "* Fornece informações sobre a massa e distância do exoplaneta.\n",
            "\n",
            "**4. Método de Imageamento Direto**\n",
            "\n",
            "* O exoplaneta é observado diretamente usando telescópios de alta resolução.\n",
            "* Fornece imagens do exoplaneta e informações sobre sua superfície e atmosfera.\n",
            "\n",
            "**5. Método de Cronometragem de Pulsar**\n",
            "\n",
            "* Os pulsares são estrelas de nêutrons que emitem pulsos regulares de rádio.\n",
            "* A presença de um exoplaneta pode perturbar os pulsos, fornecendo informações sobre sua massa e órbita.\n",
            "\n",
            "**6. Método de Interferometria**\n",
            "\n",
            "* Combina a luz de vários telescópios para criar uma resolução muito maior.\n",
            "* Pode detectar exoplanetas próximos a estrelas brilhantes.\n",
            "\n",
            "**7. Método de Espectroscopia de Alta Dispersão**\n",
            "\n",
            "* Analisa a luz da estrela hospedeira em busca de linhas espectrais que podem indicar a presença de um exoplaneta.\n",
            "* Fornece informações sobre a composição atmosférica do exoplaneta. \n",
            "\n",
            "\n",
            "Esperando prompt: Fim\n",
            "Resposta: **Fim** \n",
            "\n",
            "\n",
            "Esperando prompt: fim\n"
          ]
        }
      ]
    }
  ]
}